{
 "cells": [
  {
   "cell_type": "code",
   "execution_count": 1,
   "id": "593be7cf-10c9-4c6e-80a1-e426c1bb4ad5",
   "metadata": {},
   "outputs": [],
   "source": [
    "import nltk\n",
    "from nltk.corpus import stopwords\n",
    "from nltk.tokenize import word_tokenize\n",
    "from sklearn.feature_extraction.text import CountVectorizer\n",
    "from sklearn.linear_model import LinearRegression\n",
    "from sklearn.model_selection import train_test_split\n",
    "from sklearn.metrics import mean_squared_error"
   ]
  },
  {
   "cell_type": "code",
   "execution_count": 2,
   "id": "86789d56",
   "metadata": {},
   "outputs": [],
   "source": [
    "\n",
    "# Data and preprocessing\n",
    "texts = [\"I love this product\", \"Not what I expected\", \"Absolutely fantastic!\", \"Terrible experience\"]\n",
    "scores = [4.5, 2.0, 5.0, 1.0]\n",
    "stop_words = set(stopwords.words('english'))\n"
   ]
  },
  {
   "cell_type": "code",
   "execution_count": 3,
   "id": "57783c92",
   "metadata": {},
   "outputs": [],
   "source": [
    "def preprocess(text):  # Tokenize, clean, and remove stopwords\n",
    "    return \" \".join(word for word in word_tokenize(text.lower()) if word.isalnum() and word not in stop_words)\n"
   ]
  },
  {
   "cell_type": "code",
   "execution_count": 4,
   "id": "3d3a6dde",
   "metadata": {},
   "outputs": [],
   "source": [
    "# Transform data\n",
    "vectorizer = CountVectorizer()\n",
    "X = vectorizer.fit_transform([preprocess(text) for text in texts])\n"
   ]
  },
  {
   "cell_type": "code",
   "execution_count": 5,
   "id": "22d94766",
   "metadata": {},
   "outputs": [],
   "source": [
    "# Train and evaluate\n",
    "X_train, X_test, y_train, y_test = train_test_split(X, scores, test_size=0.25, random_state=42)\n",
    "model = LinearRegression().fit(X_train, y_train)\n",
    "predictions = model.predict(X_test)"
   ]
  },
  {
   "cell_type": "code",
   "execution_count": 6,
   "id": "cf8782a3",
   "metadata": {},
   "outputs": [
    {
     "name": "stdout",
     "output_type": "stream",
     "text": [
      "MSE Value: 2.25\n"
     ]
    }
   ],
   "source": [
    "\n",
    "print(f\"MSE Value: {mean_squared_error(y_test, predictions)}\")"
   ]
  },
  {
   "cell_type": "code",
   "execution_count": null,
   "id": "3343940d",
   "metadata": {},
   "outputs": [],
   "source": []
  }
 ],
 "metadata": {
  "kernelspec": {
   "display_name": "base",
   "language": "python",
   "name": "python3"
  },
  "language_info": {
   "codemirror_mode": {
    "name": "ipython",
    "version": 3
   },
   "file_extension": ".py",
   "mimetype": "text/x-python",
   "name": "python",
   "nbconvert_exporter": "python",
   "pygments_lexer": "ipython3",
   "version": "3.12.4"
  }
 },
 "nbformat": 4,
 "nbformat_minor": 5
}
